{
 "cells": [
  {
   "cell_type": "markdown",
   "metadata": {},
   "source": [
    "# Homework #1 - Basic Statistics\n",
    "\n",
    "**In this assignment, you are going to solve some basic statistical problems like estimating parameters of a distribution. In each problem, you are instructed to write little chunks of Python code. Additionally, there are few questions that you have to answer based on your observations and your knowledge of statistics.**\n",
    "\n",
    "**Ultimately, you are expected to submit your solutions as a single jupyter notebook, *not a python script or anything else.***\n",
    "\n",
    "**In the case of any questions, post it on the Q&A forum.**\n",
    "\n",
    "Good Luck"
   ]
  },
  {
   "cell_type": "code",
   "execution_count": 1,
   "metadata": {
    "ExecuteTime": {
     "end_time": "2020-11-22T18:56:24.884623Z",
     "start_time": "2020-11-22T18:56:24.450303Z"
    }
   },
   "outputs": [],
   "source": [
    "import numpy as np\n",
    "import matplotlib.pyplot as plt\n",
    "import scipy.stats as st\n",
    "\n",
    "from dists import *"
   ]
  },
  {
   "cell_type": "markdown",
   "metadata": {},
   "source": [
    "# Problem #1 - Parameter Estimation\n",
    "\n",
    "**A) By calling `my_dist(n_sample, student_id)`, draw a sample of size 100 from the my_dist distribution.**"
   ]
  },
  {
   "cell_type": "code",
   "execution_count": 2,
   "metadata": {},
   "outputs": [],
   "source": [
    "sample_size = 100\n",
    "student_id = 810199340\n",
    "my_dist_sample = my_dist(sample_size, student_id)"
   ]
  },
  {
   "cell_type": "markdown",
   "metadata": {},
   "source": [
    "**B) Calculate and print the mean of the sample you've just drawn.**"
   ]
  },
  {
   "cell_type": "code",
   "execution_count": 3,
   "metadata": {},
   "outputs": [
    {
     "name": "stdout",
     "output_type": "stream",
     "text": [
      "My dist sample mean: 2.0534965110418035\n"
     ]
    }
   ],
   "source": [
    "my_dist_sample_mean = my_dist_sample.mean()\n",
    "print(\"My dist sample mean: {}\".format(my_dist_sample_mean))"
   ]
  },
  {
   "cell_type": "markdown",
   "metadata": {},
   "source": [
    "**C) Calculate the *unbiased estimation* of the standard deviation of your sample.**"
   ]
  },
  {
   "cell_type": "code",
   "execution_count": 4,
   "metadata": {},
   "outputs": [
    {
     "name": "stdout",
     "output_type": "stream",
     "text": [
      "My dist sample unbiased std: 7.986653684094258\n"
     ]
    }
   ],
   "source": [
    "my_dist_sample_unbiased_std = my_dist_sample.std(ddof=1)\n",
    "print(\"My dist sample unbiased std: {}\".format(my_dist_sample_unbiased_std))"
   ]
  },
  {
   "cell_type": "markdown",
   "metadata": {},
   "source": [
    "**D) Answer the following questions.**\n",
    "- What is an unbiased estimator?\n",
    "\n",
    "When we calculating population parameters from sample parameters, we should consider accuracy.\n",
    "In estimating population variance by sample variance, divide deviations to N makes underestimate and beacause of that it calls biased estimator.\n",
    "For correcting this issue, we divide by n - 1 instead of by n. This is called Bessel's correction.It calls unbiased estimation to correct population patameter underestimation.\n",
    "If we're trying to estimate the standard deviation of the population using a sample of data, we do so. we devide by n-1 instead of n. It called unbiased estimation of standard deviation.\n",
    "\n",
    "$$ s = \\sqrt {{\\Sigma (x_i - \\mu_x)^2}\\over {N-1}}$$\n",
    "\n",
    "- In what situations the maximum likelihood estimation of the variance of a distribution can severely contaminate the estimation?\n",
    "\n",
    "When we have small sample size, maximum likelihood estimation of the variance can be really low. In this situation, Bessel's correction can be very useful because changing denominator from N to N-1 helps this underestimation gets correct. This change is very significant.\n"
   ]
  },
  {
   "cell_type": "markdown",
   "metadata": {},
   "source": [
    "**E) Now, draw 2000 samples of size 500 and store their means in an array You're going to use this array in the next questions. Your result, obviously, is a vector of 2000 numbers.**"
   ]
  },
  {
   "cell_type": "code",
   "execution_count": 5,
   "metadata": {},
   "outputs": [],
   "source": [
    "sample_size = 500\n",
    "samples = [my_dist(sample_size, student_id) for _ in range(2000)]\n",
    "sample_means = [sample.mean() for sample in samples]"
   ]
  },
  {
   "cell_type": "markdown",
   "metadata": {},
   "source": [
    "# Problem #2 - Data Visualization and CLT"
   ]
  },
  {
   "cell_type": "markdown",
   "metadata": {},
   "source": [
    "**A) Draw a sample of size 2000 from my_dist distribution. Then, using matplotlib package, depict the boxplot of your sample.**"
   ]
  },
  {
   "cell_type": "code",
   "execution_count": 6,
   "metadata": {
    "scrolled": true
   },
   "outputs": [
    {
     "data": {
      "image/png": "[encoded data removed]",
      "text/plain": [
       "<Figure size 432x288 with 1 Axes>"
      ]
     },
     "metadata": {
      "needs_background": "light"
     },
     "output_type": "display_data"
    }
   ],
   "source": [
    "sample_size = 2000\n",
    "my_dist_sample_2 = my_dist(sample_size, student_id)\n",
    "sample_boxplot = plt.boxplot(my_dist_sample_2)"
   ]
  },
  {
   "cell_type": "markdown",
   "metadata": {},
   "source": [
    "**B) Now, plot the histogram of the sample means you've calculated in problem 1 part E.**"
   ]
  },
  {
   "cell_type": "code",
   "execution_count": 7,
   "metadata": {},
   "outputs": [
    {
     "data": {
      "image/png": "[encoded data removed]",
      "text/plain": [
       "<Figure size 432x288 with 1 Axes>"
      ]
     },
     "metadata": {
      "needs_background": "light"
     },
     "output_type": "display_data"
    }
   ],
   "source": [
    "sample_means_histogram = plt.hist(sample_means)"
   ]
  },
  {
   "cell_type": "markdown",
   "metadata": {},
   "source": [
    "**C) Considering the 2000 realizations of the sample means distribution you've calculated in problem 1 part E, compute their mean and standard deviation.**"
   ]
  },
  {
   "cell_type": "code",
   "execution_count": 8,
   "metadata": {},
   "outputs": [
    {
     "name": "stdout",
     "output_type": "stream",
     "text": [
      "Sample means distribution mean: 1.3374662105159922\n",
      "Sample means distribution std: 0.36688823745125954\n"
     ]
    }
   ],
   "source": [
    "def print_mean_and_std_of_means(sample_means):\n",
    "    sample_means_np = np.array(sample_means)\n",
    "    sample_means_mean = sample_means_np.mean()\n",
    "    sample_means_std = sample_means_np.std()\n",
    "    print(\"Sample means distribution mean: {}\".format(sample_means_mean))\n",
    "    print(\"Sample means distribution std: {}\".format(sample_means_std))\n",
    "    \n",
    "print_mean_and_std_of_means(sample_means)"
   ]
  },
  {
   "cell_type": "markdown",
   "metadata": {},
   "source": [
    "**D) Now, draw another 2000 samples of size 10 from my_dist and store their means in another array. Then, compute the mean and standard deviation of these 2000 samples.**"
   ]
  },
  {
   "cell_type": "code",
   "execution_count": 9,
   "metadata": {},
   "outputs": [
    {
     "name": "stdout",
     "output_type": "stream",
     "text": [
      "Sample means distribution mean: 1.310562914978656\n",
      "Sample means distribution std: 2.5904206011026663\n"
     ]
    }
   ],
   "source": [
    "sample_size = 10\n",
    "samples_2 = [my_dist(sample_size, student_id) for _ in range(2000)]\n",
    "sample_means_2 = [sample.mean() for sample in samples_2]\n",
    "print_mean_and_std_of_means(sample_means_2)"
   ]
  },
  {
   "cell_type": "markdown",
   "metadata": {},
   "source": [
    "**E) Answer the following questions.**\n",
    "- What do you think is the main characteristic of the histogram in part B?\n",
    "\n",
    "I think this histogram is like normal distribution. It has bell curve shape and it's symmetrical.\n",
    "\n",
    "- Interpret the results of part C. Do these results have any association with your estimation of the mean of my_dist distribution? Explain.\n",
    "\n",
    "Yes. We try to estimate distribution mean by drawing multiple samples with good size from distribution and calculate mean from this samples. Get mean and std of this sample means can lead us to distribution mean because we try to increase our accuracy by drawing multiple times.\n",
    "As you see in part C, it has low standard deviation that say all means are focused in one point(means of mean). In other word, many mean values are close to means of mean. This value can be good estimator of my_dist distribution mean.\n",
    "\n",
    "- Are there any considerable difference between the results of part C and D? Why?\n",
    "\n",
    "Yes. Distributions mean are close to each other but part D have a higher std because sample size is much smaller than part c. This smaller sample size cause values for mean that are far from mean. Because of that part D has higher standard deviation."
   ]
  },
  {
   "cell_type": "markdown",
   "metadata": {},
   "source": [
    "# Problem #3 - Confidence Interval"
   ]
  },
  {
   "cell_type": "markdown",
   "metadata": {},
   "source": [
    "**A) Construct a 95% confidence interval on the sample means of my_dist distribution. Your result, obviously, consists of two numbers: a lower bound and an upper bound of the calculated interval.**"
   ]
  },
  {
   "cell_type": "code",
   "execution_count": 28,
   "metadata": {},
   "outputs": [
    {
     "name": "stdout",
     "output_type": "stream",
     "text": [
      "(0.6183784787601441, 2.05655394227184)\n"
     ]
    }
   ],
   "source": [
    "sample_means_np = np.array(sample_means)\n",
    "sample_means_mean = sample_means_np.mean()\n",
    "sample_means_std = sample_means_np.std()\n",
    "sample_means_ci = st.norm.interval(alpha=0.95, loc=sample_means_mean, scale=sample_means_std)\n",
    "print(sample_means_ci)"
   ]
  },
  {
   "cell_type": "markdown",
   "metadata": {},
   "source": [
    "**B) What does this interval mean?**"
   ]
  },
  {
   "cell_type": "markdown",
   "metadata": {},
   "source": [
    "We are 95% confident that mean of my_dist distribution with given seed(student_id) on average is in (0.6183784787601441, 2.05655394227184) interval."
   ]
  },
  {
   "cell_type": "markdown",
   "metadata": {},
   "source": [
    "# Problem #4 - Estimating The Parameters of Some Observations\n",
    "\n",
    "**In this problem, you're going to estimate the average of a random variable. In contrast with previous problems, this time the observations are collected one by one. To observe a single realization of this random variable, call `my_dist2(student_id)` function. Upon calling this function, a single observation/realization of this random variable is returned.**"
   ]
  },
  {
   "cell_type": "markdown",
   "metadata": {},
   "source": [
    "**A) Draw 100 samples from my_dist2 distribution. After observing each realization, calculate the sample mean of the realizations you've observed so far. In addition to that, construct a confidence interval for your estimation at 0.1 significane level. Finally, plot your estimations in a bar plot alongside their confidence errors as whisckers of each bar. Your final plot should look similar to this:**\n",
    "\n",
    "<img src=\"https://support.content.office.net/en-us/media/68efe29e-f30c-4c6f-95cf-9cff7dde1131.jpg\" width=\"400px\" alt=\"no internet connection!\">"
   ]
  },
  {
   "cell_type": "code",
   "execution_count": 51,
   "metadata": {},
   "outputs": [
    {
     "data": {
      "image/png": "[encoded data removed]",
      "text/plain": [
       "<Figure size 2880x1440 with 1 Axes>"
      ]
     },
     "metadata": {
      "needs_background": "light"
     },
     "output_type": "display_data"
    }
   ],
   "source": [
    "samples_2 = []\n",
    "samples_2_means = []\n",
    "estimations = []\n",
    "confidence_intervals = []\n",
    "for _ in range(100):\n",
    "    new_observation = my_dist2(student_id)\n",
    "    samples_2.append(new_observation)\n",
    "    sample_mean = np.mean(samples_2)\n",
    "    samples_2_means.append(sample_mean)\n",
    "    mean_estimation = np.mean(samples_2_means)\n",
    "    means_estimation_ci = st.norm.interval(alpha=0.90, loc=np.mean(samples_2_means), scale=np.std(samples_2_means))\n",
    "    estimations.append(mean_estimation)\n",
    "    confidence_intervals.append(means_estimation_ci)\n",
    "x = range(100)\n",
    "ci_upperbounds = [bounds[1] for bounds in confidence_intervals]\n",
    "deviations = [a_i - b_i for a_i, b_i in zip(ci_upperbounds, estimations)] \n",
    "plt.figure(figsize=(40,20))\n",
    "plt.plot(x, estimations, '-o', color = 'blue')\n",
    "plt.errorbar(x, estimations, yerr=deviations, color = 'black')\n",
    "plt.show()"
   ]
  },
  {
   "cell_type": "markdown",
   "metadata": {},
   "source": [
    "**B) How is your estimation changing over time? How is your confidence interval changing? Explain why.**"
   ]
  },
  {
   "cell_type": "markdown",
   "metadata": {},
   "source": [
    "At first it starts with rises and falls but at the end, it converges to a value that is a good estimator for distribution mean. Reason is when we have more draws, single draw can't effect the whole mean a lot and means shape estimation to real value mean.\n",
    "\n",
    "As you see in the plot, confidence interval gets smaller because standard deviation gets smaller. It happens because when draws count goes bigger, means are more likely to be around the mean and be compact. Because of that standard deviation gets smaller, hence, confidence interval gets shorter."
   ]
  }
 ],
 "metadata": {
  "kernelspec": {
   "display_name": "Python 3",
   "language": "python",
   "name": "python3"
  },
  "language_info": {
   "codemirror_mode": {
    "name": "ipython",
    "version": 3
   },
   "file_extension": ".py",
   "mimetype": "text/x-python",
   "name": "python",
   "nbconvert_exporter": "python",
   "pygments_lexer": "ipython3",
   "version": "3.9.0"
  },
  "toc": {
   "base_numbering": 1,
   "nav_menu": {},
   "number_sections": true,
   "sideBar": true,
   "skip_h1_title": false,
   "title_cell": "Table of Contents",
   "title_sidebar": "Contents",
   "toc_cell": false,
   "toc_position": {},
   "toc_section_display": true,
   "toc_window_display": false
  },
  "varInspector": {
   "cols": {
    "lenName": 16,
    "lenType": 16,
    "lenVar": 40
   },
   "kernels_config": {
    "python": {
     "delete_cmd_postfix": "",
     "delete_cmd_prefix": "del ",
     "library": "var_list.py",
     "varRefreshCmd": "print(var_dic_list())"
    },
    "r": {
     "delete_cmd_postfix": ") ",
     "delete_cmd_prefix": "rm(",
     "library": "var_list.r",
     "varRefreshCmd": "cat(var_dic_list()) "
    }
   },
   "types_to_exclude": [
    "module",
    "function",
    "builtin_function_or_method",
    "instance",
    "_Feature"
   ],
   "window_display": false
  }
 },
 "nbformat": 4,
 "nbformat_minor": 2
}
